{
 "cells": [
  {
   "cell_type": "markdown",
   "metadata": {},
   "source": [
    "# Experiment 01"
   ]
  },
  {
   "cell_type": "markdown",
   "metadata": {},
   "source": [
    "## Core"
   ]
  },
  {
   "cell_type": "code",
   "execution_count": null,
   "metadata": {},
   "outputs": [],
   "source": [
    "import numpy, os, pickle, time\n",
    "from matplotlib import pyplot\n",
    "from utils import SimulationData, build_banded_matrix\n",
    "%matplotlib inline"
   ]
  },
  {
   "cell_type": "code",
   "execution_count": null,
   "metadata": {},
   "outputs": [],
   "source": [
    "# Initialize data\n",
    "data = SimulationData(\n",
    "    R=3e-3, L=1e-3, G=1e-2, C=1e3,\n",
    "    X=1.0, T=1.0, num_x_points=100, num_t_points=1000,\n",
    "    mu_0 = lambda x : numpy.sin(5*numpy.pi*x) + 2*numpy.sin(7*numpy.pi*x),\n",
    "    xi_0 = 0.,\n",
    "    nu_0 = lambda t : 0., nu_X = lambda t : 0.,\n",
    "    name=\"experiment_01\"\n",
    ")\n",
    "print(f\"CFL number = {data.get_CFL_number()}\")"
   ]
  },
  {
   "cell_type": "code",
   "execution_count": null,
   "metadata": {},
   "outputs": [],
   "source": [
    "# Experiment parameters\n",
    "num_x_points = [int(100*i) for i in [1, 1.5, 2, 2.5, 3]]\n",
    "num_t_points = [int(1000*i) for i in [1, 1.5, 2, 2.5, 3]]\n",
    "num_runs = 3\n",
    "runtimes = numpy.zeros((len(num_x_points),num_runs))\n",
    "save_dir = \"./\""
   ]
  },
  {
   "cell_type": "markdown",
   "metadata": {},
   "source": [
    "## Numerical solution: basic update scheme"
   ]
  },
  {
   "cell_type": "code",
   "execution_count": null,
   "metadata": {
    "scrolled": true
   },
   "outputs": [],
   "source": [
    "for i, (K_plus_1, N_plus_1) in enumerate(zip(num_x_points, num_t_points)):\n",
    "    print(f\"Simulating with K = {K_plus_1-1} and N = {N_plus_1-1}\")\n",
    "    # Set data\n",
    "    data.set_domain(num_x_points=K_plus_1, num_t_points=N_plus_1)\n",
    "    print(f\">> CFL number = {data.get_CFL_number()}\\n\")\n",
    "\n",
    "    # Update scheme parameters\n",
    "    A = 1. + 0.5 * data.domain[\"t step\"] * (data.line[\"alpha\"] + data.line[\"beta\"])\n",
    "    B = 1. - 0.5 * data.domain[\"t step\"] * (data.line[\"alpha\"] + data.line[\"beta\"])\n",
    "    E = data.line[\"c squared\"] * data.domain[\"t step\"]**2 / data.domain[\"x step\"]**2\n",
    "    F = 2. - (2. * data.line[\"c squared\"] * data.domain[\"t step\"]**2 / data.domain[\"x step\"]**2) - (data.line[\"alpha\"] * data.line[\"beta\"] * data.domain[\"t step\"]**2)\n",
    "\n",
    "    # Get discretized domains\n",
    "    x_domain = data.get_x_domain()\n",
    "    t_domain = data.get_t_domain()\n",
    "    \n",
    "    for j in range(num_runs):\n",
    "        print(f\"Run no. {i+1}...\", end=\"\")\n",
    "        \n",
    "        # Initialize container for voltages\n",
    "        u = numpy.zeros((data.domain[\"K\"]+1, data.domain[\"N\"]+1))\n",
    "        \n",
    "        # Start counter\n",
    "        tic = time.perf_counter()\n",
    "        \n",
    "        # Initial conditions\n",
    "        u[:,0] = data.init_condition_value(x_domain)\n",
    "        u[0,0] = data.dirichlet_sending_end(t_domain[0])\n",
    "        u[-1,0] = data.dirichlet_receiving_end(t_domain[0])\n",
    "        u[:,1] = data.init_condition_deriv(u[:,0])\n",
    "        u[0,1] = data.dirichlet_sending_end(t_domain[1])\n",
    "        u[-1,1] = data.dirichlet_receiving_end(t_domain[1])\n",
    "\n",
    "        # n=1,2,...,N-1\n",
    "        for n in range(1,data.domain[\"N\"]):\n",
    "            # k=1,2,...,K-1\n",
    "            for k in range(1,data.domain[\"K\"]):\n",
    "                u_was, u_now = u[k,n-1], u[k,n]\n",
    "                u_now_left, u_now_right = u[k-1,n], u[k+1,n]\n",
    "                u_nxt = E*u_now_left + F*u_now + E*u_now_right - B*u_was\n",
    "                u_nxt /= A\n",
    "                u[k,n+1] = u_nxt\n",
    "            # k=0, K\n",
    "            u[0,n+1] = data.dirichlet_sending_end(t_domain[n+1])\n",
    "            u[-1,n+1] = data.dirichlet_receiving_end(t_domain[n+1])\n",
    "        \n",
    "        # Stop counter\n",
    "        toc = time.perf_counter()\n",
    "        \n",
    "        # Record elapsed time\n",
    "        runtimes[i,j] = toc-tic\n",
    "        print(f\"completed in {toc-tic} seconds.\")\n",
    "\n",
    "del K_plus_1, N_plus_1\n",
    "del j, u, tic, toc\n",
    "del n, k, u_was, u_now, u_now_left, u_now_right, u_nxt"
   ]
  },
  {
   "cell_type": "code",
   "execution_count": null,
   "metadata": {},
   "outputs": [],
   "source": [
    "# Save results\n",
    "with open(os.path.join(save_dir, \"experiment-01_basic-update-scheme.pkl\"), 'wb') as file:\n",
    "        pickle.dump(runtimes, file)\n",
    "print(\"Runtime results saved to \" + os.path.join(save_dir, \"experiment-01_basic-update-scheme.pkl\") + \".\")\n",
    "del file"
   ]
  },
  {
   "cell_type": "markdown",
   "metadata": {},
   "source": [
    "## Numerical solution: vectorized update scheme"
   ]
  },
  {
   "cell_type": "code",
   "execution_count": null,
   "metadata": {},
   "outputs": [],
   "source": [
    "# Initial conditions\n",
    "u[:,0] = data.init_condition_value(x_domain)\n",
    "u[0,0] = data.dirichlet_sending_end(t_domain[0])\n",
    "u[-1,0] = data.dirichlet_receiving_end(t_domain[0])\n",
    "u[:,1] = data.init_condition_deriv(u[:,0])\n",
    "u[0,1] = data.dirichlet_sending_end(t_domain[1])\n",
    "u[-1,1] = data.dirichlet_receiving_end(t_domain[1])\n",
    "\n",
    "# n=1,2,...,N-1\n",
    "for n in range(1,N):\n",
    "    u_was, u_now = u[:,n-1], u[:,n]\n",
    "    # k=1,2,...,K-1\n",
    "    hat_u_nxt = numpy.dot(E_matrix, u_now) - numpy.dot(B_matrix, u_was)\n",
    "    hat_u_nxt /= A\n",
    "    # k=0,1,...,K\n",
    "    u_nxt = numpy.concatenate(\n",
    "        (numpy.array([data.dirichlet_sending_end(t_domain[n+1])]),\n",
    "         hat_u_nxt,\n",
    "         numpy.array([data.dirichlet_receiving_end(t_domain[n+1])]))\n",
    "    )\n",
    "    u[:,n+1] = u_nxt\n",
    "\n",
    "del n, u_was, u_now, hat_u_nxt, u_nxt"
   ]
  },
  {
   "cell_type": "markdown",
   "metadata": {},
   "source": [
    "## Results summary"
   ]
  },
  {
   "cell_type": "code",
   "execution_count": null,
   "metadata": {},
   "outputs": [],
   "source": []
  },
  {
   "cell_type": "code",
   "execution_count": null,
   "metadata": {},
   "outputs": [],
   "source": []
  },
  {
   "cell_type": "code",
   "execution_count": null,
   "metadata": {},
   "outputs": [],
   "source": []
  }
 ],
 "metadata": {
  "kernelspec": {
   "display_name": "Python 3",
   "language": "python",
   "name": "python3"
  },
  "language_info": {
   "codemirror_mode": {
    "name": "ipython",
    "version": 3
   },
   "file_extension": ".py",
   "mimetype": "text/x-python",
   "name": "python",
   "nbconvert_exporter": "python",
   "pygments_lexer": "ipython3",
   "version": "3.8.0"
  }
 },
 "nbformat": 4,
 "nbformat_minor": 4
}
