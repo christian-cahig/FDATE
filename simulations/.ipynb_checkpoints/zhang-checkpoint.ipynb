{
 "cells": [
  {
   "cell_type": "code",
   "execution_count": null,
   "metadata": {},
   "outputs": [],
   "source": [
    "import numpy, utils\n",
    "from matplotlib import pyplot\n",
    "from utils import build_banded_matrix\n",
    "%matplotlib inline"
   ]
  },
  {
   "cell_type": "code",
   "execution_count": null,
   "metadata": {},
   "outputs": [],
   "source": [
    "# Domains\n",
    "X = 1.0\n",
    "T = 1.0\n",
    "\n",
    "# Line parameters\n",
    "R = 3e-3\n",
    "L = 1e-3\n",
    "G = 0\n",
    "C = 1e3\n",
    "\n",
    "# Derived parameters\n",
    "c = 1. / numpy.sqrt(L*C)\n",
    "c_squared = 1. / (L*C)\n",
    "alpha = (G / C)\n",
    "beta = (R / L)\n",
    "\n",
    "omega = 1. / (X * numpy.sqrt(L*C))\n",
    "freq = 1. / (2 * numpy.pi * X * numpy.sqrt(L*C))\n",
    "\n",
    "A = 1. + 0.5 * delta_t * (alpha + beta)\n",
    "B = 1. - 0.5 * delta_t * (alpha + beta)\n",
    "E = c_squared * delta_t**2 / delta_x**2\n",
    "F = 2. - (2. * c_squared * delta_t**2 / delta_x**2) - (alpha * beta * delta_t**2)"
   ]
  },
  {
   "cell_type": "code",
   "execution_count": null,
   "metadata": {},
   "outputs": [],
   "source": [
    "# Discretization\n",
    "# Spatial domain\n",
    "K = 99\n",
    "num_x_points = K + 1\n",
    "delta_x = X / K\n",
    "x_domain = numpy.array([0+k*delta_x for k in range(num_x_points)])\n",
    "\n",
    "# Temporal domain\n",
    "N = 999\n",
    "num_t_points = N + 1\n",
    "delta_t = T / N\n",
    "t_domain = numpy.array([0+n*delta_t for n in range(num_t_points)])\n",
    "\n",
    "# CFL criterion\n",
    "epsilon = c * delta_t / delta_x\n",
    "print(f\"CFL criterion epsilon = {epsilon}\")"
   ]
  },
  {
   "cell_type": "code",
   "execution_count": null,
   "metadata": {},
   "outputs": [],
   "source": [
    "# Initial conditions\n",
    "def mu(x):\n",
    "    return numpy.sin(5*numpy.pi*x) + 2*numpy.sin(7*numpy.pi*x)\n",
    "\n",
    "def get_u_k_1(u_k_0, delta_t):\n",
    "    return u_k_0 + gamma_0*delta_t"
   ]
  },
  {
   "cell_type": "code",
   "execution_count": null,
   "metadata": {},
   "outputs": [],
   "source": [
    "# Boundary conditions\n",
    "def nu_0(t):\n",
    "    return 0\n",
    "\n",
    "def nu_X(t):\n",
    "    return 0"
   ]
  },
  {
   "cell_type": "code",
   "execution_count": null,
   "metadata": {},
   "outputs": [],
   "source": [
    "# Analytic solution\n",
    "def get_u_x_t(x,t):\n",
    "    a = 1.5\n",
    "    def omg(k):\n",
    "        return numpy.sqrt((c*k*numpy.pi)**2 - a**2)\n",
    "    \n",
    "    u = numpy.sin(5*numpy.pi*x) * (numpy.cos(omg(5)*t) + (a/omg(5))*numpy.sin(omg(5)*t))\n",
    "    u += 2*numpy.sin(7*numpy.pi*x) * (numpy.cos(omg(7)*t) + (a/omg(7))*numpy.sin(omg(7)*t))\n",
    "    u *= numpy.exp(-a*t)\n",
    "    \n",
    "    return u"
   ]
  },
  {
   "cell_type": "code",
   "execution_count": null,
   "metadata": {},
   "outputs": [],
   "source": [
    "E_matrix = build_banded_matrix(numpy.array([E, F, E]), K-1)\n",
    "B_matrix = numpy.concatenate((numpy.zeros((K-1,1)), numpy.identity(K-1), numpy.zeros((K-1,1))), axis=1)"
   ]
  },
  {
   "cell_type": "code",
   "execution_count": null,
   "metadata": {},
   "outputs": [],
   "source": []
  },
  {
   "cell_type": "code",
   "execution_count": null,
   "metadata": {},
   "outputs": [],
   "source": []
  }
 ],
 "metadata": {
  "kernelspec": {
   "display_name": "Python 3",
   "language": "python",
   "name": "python3"
  },
  "language_info": {
   "codemirror_mode": {
    "name": "ipython",
    "version": 3
   },
   "file_extension": ".py",
   "mimetype": "text/x-python",
   "name": "python",
   "nbconvert_exporter": "python",
   "pygments_lexer": "ipython3",
   "version": "3.8.0"
  }
 },
 "nbformat": 4,
 "nbformat_minor": 4
}
