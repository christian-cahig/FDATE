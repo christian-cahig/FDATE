{
 "cells": [
  {
   "cell_type": "markdown",
   "metadata": {},
   "source": [
    "# Musings"
   ]
  },
  {
   "cell_type": "markdown",
   "metadata": {},
   "source": [
    "## Transmission Line Telegraph Equation"
   ]
  },
  {
   "cell_type": "markdown",
   "metadata": {},
   "source": [
    "The propagation of a voltage signal through a transmission line is represented by the *telegraph equation*.\n",
    "$$\n",
    "LC \\frac{\\partial^{2}}{\\partial t^{2}} v \\left( x,t \\right)\n",
    "+\n",
    "\\left( LG + RC \\right) \\frac{\\partial}{\\partial t} v \\left( x,t \\right)\n",
    "+\n",
    "RG v \\left( x,t \\right)\n",
    "=\n",
    "\\frac{\\partial^{2}}{\\partial x^{2}} v \\left( x,t \\right)\n",
    "$$\n",
    "where\n",
    "- $v \\left( x,t \\right)$ is the instantaneous voltage (referred to ground) at a point $x$ along the line at time $t$, and\n",
    "- $C$, $G$, $L$, and $R$ are the shunt capacitance, shunt conductance, series inductance, and series resistance parameters per unit length.\n",
    "\n",
    "We define the *characteristic impedance* as\n",
    "$$\n",
    "Z_{0} = \\sqrt{ \\frac{L}{C} }\n",
    "$$\n",
    "and the *propagation velocity* as\n",
    "$$\n",
    "c = \\frac{1}{\\sqrt{LC}}\n",
    "$$\n",
    "If the length of the line is $\\ell$, then we define the *characteristic angular frequency* as\n",
    "$$\n",
    "\\omega_{0} = \\frac{1}{\\ell \\sqrt{LC}}\n",
    "$$\n",
    "\n",
    "Letting\n",
    "$$\n",
    "\\alpha = \\frac{G}{C}, \\quad\n",
    "\\beta = \\frac{R}{L}\n",
    "$$\n",
    "we can rewrite the telegraph equation as\n",
    "$$\n",
    "\\frac{\\partial^{2}}{\\partial t^{2}} v \\left( x,t \\right) +\n",
    "\\left( \\alpha + \\beta \\right) \\frac{\\partial}{\\partial t} v \\left( x,t \\right) +\n",
    "\\alpha \\beta v \\left( x,t \\right)\n",
    "=\n",
    "c^{2} \\frac{\\partial^{2}}{\\partial x^{2}} v \\left( x,t \\right)\n",
    "$$\n",
    "which is clearly a hyperbolic partial differential equation (PDE)."
   ]
  },
  {
   "cell_type": "code",
   "execution_count": null,
   "metadata": {},
   "outputs": [],
   "source": []
  },
  {
   "cell_type": "code",
   "execution_count": null,
   "metadata": {},
   "outputs": [],
   "source": []
  },
  {
   "cell_type": "markdown",
   "metadata": {},
   "source": [
    "## Section IV from Koksal"
   ]
  },
  {
   "cell_type": "code",
   "execution_count": 1,
   "metadata": {},
   "outputs": [],
   "source": [
    "import numpy"
   ]
  },
  {
   "cell_type": "code",
   "execution_count": 2,
   "metadata": {},
   "outputs": [],
   "source": [
    "C, G, L, R = 0.01e-6, 0.001e-6, 1e-3, 0.03\n",
    "ell = 150"
   ]
  },
  {
   "cell_type": "code",
   "execution_count": 3,
   "metadata": {},
   "outputs": [],
   "source": [
    "Z_0 = numpy.sqrt(L/C)\n",
    "c, c_squared = 1. / (numpy.sqrt(L*C)), 1. / (L*C)\n",
    "omega_0 = 1. / (ell * numpy.sqrt(L*C))\n",
    "alpha = G/C\n",
    "beta = R/L"
   ]
  },
  {
   "cell_type": "code",
   "execution_count": 13,
   "metadata": {},
   "outputs": [
    {
     "data": {
      "text/plain": [
       "30.1"
      ]
     },
     "execution_count": 13,
     "metadata": {},
     "output_type": "execute_result"
    }
   ],
   "source": [
    "(alpha + beta)"
   ]
  },
  {
   "cell_type": "code",
   "execution_count": 12,
   "metadata": {},
   "outputs": [
    {
     "data": {
      "text/plain": [
       "3e-14"
      ]
     },
     "execution_count": 12,
     "metadata": {},
     "output_type": "execute_result"
    }
   ],
   "source": [
    "(alpha * beta) / (Z_0**2 * 1e3**3)"
   ]
  },
  {
   "cell_type": "code",
   "execution_count": 7,
   "metadata": {},
   "outputs": [
    {
     "data": {
      "text/plain": [
       "316227.7660168379"
      ]
     },
     "execution_count": 7,
     "metadata": {},
     "output_type": "execute_result"
    }
   ],
   "source": [
    "(alpha + beta)"
   ]
  },
  {
   "cell_type": "code",
   "execution_count": null,
   "metadata": {},
   "outputs": [],
   "source": []
  }
 ],
 "metadata": {
  "kernelspec": {
   "display_name": "Python 3",
   "language": "python",
   "name": "python3"
  },
  "language_info": {
   "codemirror_mode": {
    "name": "ipython",
    "version": 3
   },
   "file_extension": ".py",
   "mimetype": "text/x-python",
   "name": "python",
   "nbconvert_exporter": "python",
   "pygments_lexer": "ipython3",
   "version": "3.8.0"
  }
 },
 "nbformat": 4,
 "nbformat_minor": 4
}
