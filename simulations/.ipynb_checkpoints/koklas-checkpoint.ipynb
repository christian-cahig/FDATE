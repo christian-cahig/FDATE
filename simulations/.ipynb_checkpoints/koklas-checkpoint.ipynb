{
 "cells": [
  {
   "cell_type": "code",
   "execution_count": null,
   "metadata": {},
   "outputs": [],
   "source": [
    "import numpy\n",
    "from matplotlib import pyplot\n",
    "%matplotlib inline"
   ]
  },
  {
   "cell_type": "markdown",
   "metadata": {},
   "source": [
    "Units used\n",
    "- $x$, $X$ : meters\n",
    "- $t$, $T$ : seconds\n",
    "- $L$ : henry per meter\n",
    "- $C$ : farad per meter\n",
    "- $R$ : ohm per meter\n",
    "- $G$ : siemens per meter"
   ]
  },
  {
   "cell_type": "code",
   "execution_count": null,
   "metadata": {},
   "outputs": [],
   "source": [
    "X = 150e3\n",
    "T = 4.0\n",
    "L = 1e-6\n",
    "C = 0.01e-9\n",
    "R = 0.03e-3\n",
    "G = 0.001e-9\n",
    "\n",
    "c_squared = 1. / (L*C)\n",
    "alpha = G / C\n",
    "beta = R / L"
   ]
  },
  {
   "cell_type": "code",
   "execution_count": null,
   "metadata": {},
   "outputs": [],
   "source": [
    "# Discretization of spatial and temporal domains\n",
    "K, N = 99, 999\n",
    "num_x_gridpoints = K + 1\n",
    "num_t_gridpoints = N + 1\n",
    "\n",
    "delta_x = X / (num_x_gridpoints-1)\n",
    "delta_t = T / (num_t_gridpoints-1)\n",
    "\n",
    "x_domain = numpy.array([0+k*delta_x for k in range(num_x_gridpoints)])\n",
    "t_domain = numpy.array([0+n*delta_t for n in range(num_t_gridpoints)])"
   ]
  },
  {
   "cell_type": "code",
   "execution_count": null,
   "metadata": {},
   "outputs": [],
   "source": [
    "# Initial conditions\n",
    "def mu(x):\n",
    "    return 0.\n",
    "\n",
    "def get_u_k_1(u_k_0):\n",
    "    rhs = 0.\n",
    "    return u_k_0 + rhs*delta_t"
   ]
  },
  {
   "cell_type": "code",
   "execution_count": null,
   "metadata": {},
   "outputs": [],
   "source": [
    "# Boundary conditions\n",
    "def nu_0(t, t_start=0, t_end=0.75e-3/numpy.sqrt(10)):\n",
    "    if (t >= t_start) and (t <= t_end):\n",
    "        return 1.0\n",
    "    else:\n",
    "        return 0.\n",
    "\n",
    "def get_u_K_n(u_Kminus1_n):\n",
    "    rhs = 0.\n",
    "    return u_Kminus1_n + rhs*delta_x"
   ]
  },
  {
   "cell_type": "code",
   "execution_count": null,
   "metadata": {},
   "outputs": [],
   "source": [
    "# Container for voltages at variou x and t\n",
    "u = numpy.zeros((num_x_gridpoints, num_t_gridpoints))"
   ]
  },
  {
   "cell_type": "code",
   "execution_count": null,
   "metadata": {},
   "outputs": [],
   "source": [
    "# At t=0\n",
    "for k in range(num_x_gridpoints):\n",
    "    x = x_domain[k]\n",
    "    u[k,0] = mu(x)\n",
    "u[0,0] = nu_0(0)\n",
    "u[K,0] = u[K-1,0]\n",
    "u[:,1] = get_u_k_1(u[:,0])"
   ]
  },
  {
   "cell_type": "code",
   "execution_count": null,
   "metadata": {},
   "outputs": [],
   "source": [
    "for n in range(1,num_t_gridpoints):\n",
    "    for k in range(num_x_gridpoints):\n",
    "        pass"
   ]
  },
  {
   "cell_type": "code",
   "execution_count": null,
   "metadata": {},
   "outputs": [],
   "source": []
  }
 ],
 "metadata": {
  "kernelspec": {
   "display_name": "Python 3",
   "language": "python",
   "name": "python3"
  },
  "language_info": {
   "codemirror_mode": {
    "name": "ipython",
    "version": 3
   },
   "file_extension": ".py",
   "mimetype": "text/x-python",
   "name": "python",
   "nbconvert_exporter": "python",
   "pygments_lexer": "ipython3",
   "version": "3.8.0"
  }
 },
 "nbformat": 4,
 "nbformat_minor": 4
}
