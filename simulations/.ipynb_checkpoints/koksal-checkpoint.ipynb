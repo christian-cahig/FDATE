{
 "cells": [
  {
   "cell_type": "code",
   "execution_count": 1,
   "metadata": {},
   "outputs": [],
   "source": [
    "import numpy\n",
    "from matplotlib import pyplot\n",
    "%matplotlib inline"
   ]
  },
  {
   "cell_type": "markdown",
   "metadata": {},
   "source": [
    "Units used\n",
    "- $x$, $X$ : meters\n",
    "- $t$, $T$ : seconds\n",
    "- $L$ : henry per meter\n",
    "- $C$ : farad per meter\n",
    "- $R$ : ohm per meter\n",
    "- $G$ : siemens per meter"
   ]
  },
  {
   "cell_type": "code",
   "execution_count": 2,
   "metadata": {},
   "outputs": [],
   "source": [
    "# Parameters\n",
    "X = 150\n",
    "T = 4.0\n",
    "L = 1e-3\n",
    "C = 0.01e-6\n",
    "R = 0.03\n",
    "G = 0.001e-6\n",
    "\n",
    "c_squared = 1. / (L*C)\n",
    "alpha = G / C\n",
    "beta = R / L"
   ]
  },
  {
   "cell_type": "code",
   "execution_count": 3,
   "metadata": {},
   "outputs": [],
   "source": [
    "# Discretization of spatial and temporal domains\n",
    "K = 99\n",
    "num_x_gridpoints = K + 1\n",
    "\n",
    "# N = 999\n",
    "# num_t_gridpoints = N + 1\n",
    "\n",
    "delta_x = X / (num_x_gridpoints-1)\n",
    "delta_t = 0.9*delta_x / numpy.sqrt(c_squared)\n",
    "\n",
    "x_domain = numpy.array([0+k*delta_x for k in range(num_x_gridpoints)])\n",
    "\n",
    "# t_domain = numpy.array([0+n*delta_t for n in range(num_t_gridpoints)])\n",
    "t_domain = numpy.arange(0., T+delta_t, delta_t)\n",
    "num_t_gridpoints = len(t_domain)\n",
    "N = num_t_gridpoints - 1\n",
    "\n",
    "A = 1. + 0.5 * (delta_t * (alpha + beta))\n",
    "B = 1. - 0.5 * (delta_t * (alpha + beta))\n",
    "E = c_squared * (delta_t**2) / (delta_x**2)\n",
    "F = 2. - (2. * c_squared * delta_t**2 / delta_x**2) - (alpha * beta * delta_t**2)"
   ]
  },
  {
   "cell_type": "code",
   "execution_count": 4,
   "metadata": {},
   "outputs": [],
   "source": [
    "# Initial conditions\n",
    "def mu(x):\n",
    "    return 0.\n",
    "\n",
    "def get_u_k_1(u_k_0):\n",
    "    rhs = 0.\n",
    "    return u_k_0 + rhs*delta_t"
   ]
  },
  {
   "cell_type": "code",
   "execution_count": 5,
   "metadata": {},
   "outputs": [],
   "source": [
    "# Boundary conditions\n",
    "def nu_0(t):\n",
    "#     t_start = 0.\n",
    "#     t_end=0.75e-3/numpy.sqrt(10)\n",
    "    t_start = 0.3\n",
    "    t_end = 0.35\n",
    "    \n",
    "    if (t >= t_start) and (t <= t_end):\n",
    "        return 1.0\n",
    "    else:\n",
    "        return 0.\n",
    "\n",
    "def get_u_K_n(u_Kminus1_n):\n",
    "    rhs = 0.\n",
    "    return u_Kminus1_n + rhs*delta_x"
   ]
  },
  {
   "cell_type": "code",
   "execution_count": 6,
   "metadata": {},
   "outputs": [],
   "source": [
    "# Container for voltages at various x and t\n",
    "u = numpy.zeros((num_x_gridpoints, num_t_gridpoints))"
   ]
  },
  {
   "cell_type": "code",
   "execution_count": 7,
   "metadata": {
    "scrolled": true
   },
   "outputs": [],
   "source": [
    "# At n=0\n",
    "n = 0\n",
    "for k in range(num_x_gridpoints):\n",
    "    u[k,0] = mu(x_domain[k])\n",
    "del n, k\n",
    "\n",
    "u[0,0] = nu_0(0)\n",
    "u[K,0] = u[K-1,0]\n",
    "u[:,1] = get_u_k_1(u[:,0])"
   ]
  },
  {
   "cell_type": "code",
   "execution_count": 8,
   "metadata": {
    "scrolled": true
   },
   "outputs": [],
   "source": [
    "# At n=1,2,...,N-1\n",
    "for n in range(1,num_t_gridpoints-1):\n",
    "    for k in range(1,num_x_gridpoints-1):\n",
    "        # Update equation\n",
    "        u[k,n+1] = (E*u[k-1,n] + F*u[k,n] + E*u[k+1,n] - B*u[k,n-1]) / A\n",
    "        \n",
    "    # Update values at k=0 and k=K according to boundary conditions\n",
    "    u[0,n+1] = nu_0(t_domain[n])\n",
    "    u[K,n+1] = get_u_K_n(u[K-1,n+1])\n",
    "del n, k"
   ]
  },
  {
   "cell_type": "code",
   "execution_count": 10,
   "metadata": {},
   "outputs": [
    {
     "data": {
      "image/png": "[encoded data removed]",
      "text/plain": [
       "<Figure size 432x288 with 1 Axes>"
      ]
     },
     "metadata": {
      "needs_background": "light"
     },
     "output_type": "display_data"
    }
   ],
   "source": [
    "fig = pyplot.figure()\n",
    "ax = fig.add_subplot(1,1,1)\n",
    "ax.plot(t_domain, u[0,:]);\n",
    "# ax.plot(t_domain, u[K,:]);\n",
    "\n",
    "pyplot.show()"
   ]
  },
  {
   "cell_type": "code",
   "execution_count": null,
   "metadata": {},
   "outputs": [],
   "source": []
  }
 ],
 "metadata": {
  "kernelspec": {
   "display_name": "Python 3",
   "language": "python",
   "name": "python3"
  },
  "language_info": {
   "codemirror_mode": {
    "name": "ipython",
    "version": 3
   },
   "file_extension": ".py",
   "mimetype": "text/x-python",
   "name": "python",
   "nbconvert_exporter": "python",
   "pygments_lexer": "ipython3",
   "version": "3.8.0"
  }
 },
 "nbformat": 4,
 "nbformat_minor": 4
}
